{
 "cells": [
  {
   "cell_type": "markdown",
   "id": "5d904dee",
   "metadata": {},
   "source": [
    "# Pykan tests Classification with pykan\n",
    "Code taken based on https://github.com/KindXiaoming/pykan/tree/master/tutorials/Example\n",
    "using Example_4_classification.ipynb.\n",
    "\n",
    "To run this model,  it is needed to clone the pykan GitHub, cover requirements. The in can be run."
   ]
  },
  {
   "cell_type": "markdown",
   "id": "31bcb9ac",
   "metadata": {},
   "source": [
    "## Regression - Diabetes dataset\n",
    "\n",
    "Let's first treat the problem as a regression problem (output dimension = 1, MSE loss). "
   ]
  },
  {
   "cell_type": "code",
   "execution_count": 10,
   "id": "82b2337e",
   "metadata": {},
   "outputs": [
    {
     "name": "stdout",
     "output_type": "stream",
     "text": [
      "cpu\n",
      "checkpoint directory created: ./model\n",
      "saving model version 0.0\n"
     ]
    },
    {
     "name": "stderr",
     "output_type": "stream",
     "text": [
      "| train_loss: 7.85e-01 | test_loss: 7.08e-01 | reg: 1.05e+02 | : 100%|█| 50/50 [00:01<00:00, 29.91it\n"
     ]
    },
    {
     "name": "stdout",
     "output_type": "stream",
     "text": [
      "saving model version 0.1\n",
      "train_loss: 100\n",
      "test_loss: 100\n",
      "train_acc: 50\n",
      "test_acc: 50\n",
      "   step  train_loss  test_loss  train_rmse  test_rmse\n",
      "0     1   43.527851  33.225708    6.597564   5.764174\n",
      "1     2    1.037220   0.912739    1.018440   0.955374\n",
      "2     3    1.037295   0.913045    1.018477   0.955534\n",
      "3     4    1.037338   0.913174    1.018498   0.955601\n",
      "4     5    1.037351   0.913201    1.018505   0.955615\n"
     ]
    }
   ],
   "source": [
    "from kan import *\n",
    "import matplotlib.pyplot as plt\n",
    "from sklearn.datasets import load_diabetes\n",
    "from sklearn.model_selection import train_test_split\n",
    "from sklearn.preprocessing import StandardScaler\n",
    "import torch\n",
    "import numpy as np\n",
    "\n",
    "# Dispositivo\n",
    "device = torch.device('cuda' if torch.cuda.is_available() else 'cpu')\n",
    "print(device)\n",
    "\n",
    "# Cargar dataset de diabetes\n",
    "data = load_diabetes()\n",
    "X = data.data  # 10 atributos\n",
    "y = data.target.reshape(-1, 1)  # Regresión: valores continuos\n",
    "\n",
    "# Normalización (opcional pero recomendable)\n",
    "scaler_X = StandardScaler()\n",
    "scaler_y = StandardScaler()\n",
    "X = scaler_X.fit_transform(X)\n",
    "y = scaler_y.fit_transform(y)\n",
    "\n",
    "# Dividir en entrenamiento y prueba\n",
    "train_input, test_input, train_label, test_label = train_test_split(X, y, test_size=0.3, random_state=42)\n",
    "\n",
    "# Convertir a tensores y enviar a dispositivo\n",
    "dtype = torch.get_default_dtype()\n",
    "dataset = {}\n",
    "dataset['train_input'] = torch.from_numpy(train_input).type(dtype).to(device)\n",
    "dataset['test_input'] = torch.from_numpy(test_input).type(dtype).to(device)\n",
    "dataset['train_label'] = torch.from_numpy(train_label).type(dtype).to(device)\n",
    "dataset['test_label'] = torch.from_numpy(test_label).type(dtype).to(device)\n",
    "\n",
    "# Visualización de una proyección PCA opcional\n",
    "# from sklearn.decomposition import PCA\n",
    "# pca = PCA(n_components=2)\n",
    "# X_proj = pca.fit_transform(train_input)\n",
    "# plt.scatter(X_proj[:, 0], X_proj[:, 1], c=train_label[:, 0])\n",
    "# plt.show()\n",
    "\n",
    "# Definir modelo con arquitectura [10,2,1]\n",
    "model = KAN(width=[10, 2, 1], grid=3, k=3, device=device)\n",
    "\n",
    "# Métricas\n",
    "\n",
    "def train_rmse():\n",
    "    y_pred = model(dataset['train_input'])\n",
    "    mse = torch.mean((y_pred - dataset['train_label'])**2)\n",
    "    return torch.sqrt(mse)\n",
    "\n",
    "def test_rmse():\n",
    "    y_pred = model(dataset['test_input'])\n",
    "    mse = torch.mean((y_pred - dataset['test_label'])**2)\n",
    "    return torch.sqrt(mse)\n",
    "\n",
    "def train_loss():\n",
    "    return torch.mean((model(dataset['train_input']) - dataset['train_label'])**2)\n",
    "\n",
    "def test_loss():\n",
    "    return torch.mean((model(dataset['test_input']) - dataset['test_label'])**2)\n",
    "\n",
    "\n",
    "# Entrenar\n",
    "results = model.fit(dataset, opt=\"Adam\", steps=50, metrics=(train_loss, test_loss, train_rmse, test_rmse))\n",
    "\n",
    "# Mostrar pérdida final (denormalizada si se desea)\n",
    "results['train_loss'][-1], results['test_loss'][-1]\n",
    "\n",
    "\n",
    "print(\"train_loss:\", len(results['train_loss']))\n",
    "print(\"test_loss:\", len(results['test_loss']))\n",
    "print(\"train_acc:\", len(results['train_rmse']))\n",
    "print(\"test_acc:\", len(results['test_rmse']))\n",
    "\n",
    "\n",
    "import pandas as pd\n",
    "\n",
    "# Convertir resultados a DataFrame\n",
    "loss_table = pd.DataFrame({\n",
    "    'step': list(range(1, len(results['train_rmse']) + 1)),\n",
    "    'train_loss': results['train_loss'][::2],\n",
    "    'test_loss': results['test_loss'][::2],\n",
    "    'train_rmse': results['train_rmse'],   \n",
    "    'test_rmse': results['test_rmse']\n",
    "})\n",
    "\n",
    "# Mostrar primeras filas\n",
    "print(loss_table.head())\n",
    "\n",
    "# Guardar como CSV si lo deseas\n",
    "loss_table.to_csv(\"Liu_KAN_diabetes_10-2-1.csv\", index=False)\n"
   ]
  },
  {
   "cell_type": "markdown",
   "id": "8a77c90a",
   "metadata": {},
   "source": [
    "## Classification - Iris dataset\n",
    "Let's then treat the problem as a classification problem (output dimension = 3, CrossEntropy loss). "
   ]
  },
  {
   "cell_type": "code",
   "execution_count": 3,
   "id": "b1761bdb-8331-4263-a78e-aaed61ad3c59",
   "metadata": {},
   "outputs": [
    {
     "name": "stdout",
     "output_type": "stream",
     "text": [
      "Usando: cpu\n",
      "checkpoint directory created: ./model\n",
      "saving model version 0.0\n"
     ]
    },
    {
     "name": "stderr",
     "output_type": "stream",
     "text": [
      "| train_loss: 4.91e+02 | test_loss: 4.31e+02 | reg: 2.45e+02 | : 100%|█| 50/50 [00:01<00:00, 25.08it\n"
     ]
    },
    {
     "name": "stdout",
     "output_type": "stream",
     "text": [
      "saving model version 0.1\n",
      "train_loss: 100\n",
      "test_loss: 100\n",
      "train_acc: 50\n",
      "test_acc: 50\n",
      "Resultados guardados en kan_iris_loss.csv\n"
     ]
    },
    {
     "data": {
      "image/png": "[encoded data removed]",
      "text/plain": [
       "<Figure size 640x480 with 1 Axes>"
      ]
     },
     "metadata": {},
     "output_type": "display_data"
    }
   ],
   "source": [
    "from kan import *\n",
    "import torch\n",
    "import numpy as np\n",
    "import pandas as pd\n",
    "import matplotlib.pyplot as plt\n",
    "from sklearn.datasets import load_iris\n",
    "from sklearn.model_selection import train_test_split\n",
    "from sklearn.preprocessing import StandardScaler, OneHotEncoder\n",
    "\n",
    "# Dispositivo\n",
    "device = torch.device('cuda' if torch.cuda.is_available() else 'cpu')\n",
    "print(\"Usando:\", device)\n",
    "\n",
    "# Dataset Iris\n",
    "iris = load_iris()\n",
    "X = iris.data  # 4 atributos\n",
    "y = iris.target.reshape(-1, 1)  # Clases: 0,1,2\n",
    "\n",
    "# Normalización y one-hot encoding\n",
    "scaler_X = StandardScaler()\n",
    "X_scaled = scaler_X.fit_transform(X)\n",
    "\n",
    "encoder = OneHotEncoder(sparse_output=False)\n",
    "y_onehot = encoder.fit_transform(y)\n",
    "\n",
    "# División entrenamiento/prueba\n",
    "X_train, X_test, y_train, y_test = train_test_split(X_scaled, y_onehot, test_size=0.3, random_state=42)\n",
    "\n",
    "# Conversión a tensores\n",
    "dtype = torch.get_default_dtype()\n",
    "dataset = {\n",
    "    'train_input': torch.from_numpy(X_train).type(dtype).to(device),\n",
    "    'test_input': torch.from_numpy(X_test).type(dtype).to(device),\n",
    "    'train_label': torch.from_numpy(y_train).type(dtype).to(device),\n",
    "    'test_label': torch.from_numpy(y_test).type(dtype).to(device)\n",
    "}\n",
    "\n",
    "# Definición del modelo KAN: arquitectura [4, 3, 3, 3]\n",
    "model = KAN(width=[4, 3, 3, 3], grid=3, k=3, device=device)\n",
    "\n",
    "# Métricas: usamos CrossEntropy efectiva para clasificación multiclase\n",
    "\n",
    "# Convertir etiquetas one-hot a índices de clase\n",
    "train_labels_int = torch.argmax(dataset['train_label'], dim=1)\n",
    "test_labels_int = torch.argmax(dataset['test_label'], dim=1)\n",
    "\n",
    "# Definir función de pérdida CrossEntropy\n",
    "loss_fn = torch.nn.CrossEntropyLoss()\n",
    "\n",
    "def train_loss():\n",
    "    logits = model(dataset['train_input'])  # Sin softmax\n",
    "    return loss_fn(logits, train_labels_int)\n",
    "\n",
    "def test_loss():\n",
    "    logits = model(dataset['test_input'])\n",
    "    return loss_fn(logits, test_labels_int)\n",
    "\n",
    "def train_acc():\n",
    "    y_pred = model(dataset['train_input'])\n",
    "    pred_class = torch.argmax(y_pred, dim=1)\n",
    "    true_class = torch.argmax(dataset['train_label'], dim=1)\n",
    "    return torch.mean((pred_class == true_class).float())\n",
    "\n",
    "def test_acc():\n",
    "    y_pred = model(dataset['test_input'])\n",
    "    pred_class = torch.argmax(y_pred, dim=1)\n",
    "    true_class = torch.argmax(dataset['test_label'], dim=1)\n",
    "    return torch.mean((pred_class == true_class).float())\n",
    "\n",
    "\n",
    "# Entrenamiento\n",
    "steps = 50\n",
    "results = model.fit(dataset, opt=\"Adam\", steps=steps, metrics=(train_loss, test_loss, train_acc, test_acc))\n",
    "\n",
    "print(\"train_loss:\", len(results['train_loss']))\n",
    "print(\"test_loss:\", len(results['test_loss']))\n",
    "print(\"train_acc:\", len(results['train_acc']))\n",
    "print(\"test_acc:\", len(results['test_acc']))\n",
    "\n",
    "loss_table = pd.DataFrame({\n",
    "    'step': list(range(1, len(results['train_acc']) + 1)),\n",
    "    'train_loss': results['train_loss'][::2],  # cada 2 pasos\n",
    "    'test_loss': results['test_loss'][::2],\n",
    "    'train_acc': results['train_acc'],\n",
    "    'test_acc': results['test_acc']\n",
    "})\n",
    "\n",
    "\n",
    "# Guardar como CSV\n",
    "loss_table.to_csv(\"Liu_KAN_iris_4-3-3-3.csv\", index=False)\n",
    "print(\"Resultados guardados en Liu_KAN_iris-4-3-3-3.csv\")\n",
    "\n",
    "# Gráfica de pérdidas\n",
    "plt.plot(loss_table['step'], loss_table['train_loss'], label='Train Loss')\n",
    "plt.plot(loss_table['step'], loss_table['test_loss'], label='Test Loss')\n",
    "plt.xlabel(\"Step\")\n",
    "plt.ylabel(\"Loss (MSE)\")\n",
    "plt.title(\"KAN [4,3,3,3] - Iris\")\n",
    "plt.legend()\n",
    "plt.grid(True)\n",
    "plt.show()\n"
   ]
  },
  {
   "cell_type": "code",
   "execution_count": 4,
   "id": "de9a2096-2f3e-4464-bcc5-de8175ddcdec",
   "metadata": {},
   "outputs": [
    {
     "name": "stdout",
     "output_type": "stream",
     "text": [
      "tensor([[  -2.7028, -145.7814,  -29.6219],\n",
      "        [-137.1266,    6.1467, -130.3274],\n",
      "        [-105.8371,    5.2789,  -92.7854],\n",
      "        [ -68.1655,   55.7162,  -37.4941],\n",
      "        [-129.7984,    2.8911, -122.3986]], grad_fn=<SliceBackward0>)\n",
      "Suma por fila: tensor([-178.1061, -261.3073, -193.3436,  -49.9434, -249.3060],\n",
      "       grad_fn=<SumBackward1>)\n"
     ]
    }
   ],
   "source": [
    "out = model(dataset['train_input'])\n",
    "print(out[:5])\n",
    "print(\"Suma por fila:\", out[:5].sum(dim=1))\n"
   ]
  },
  {
   "cell_type": "code",
   "execution_count": null,
   "id": "1ea4595f-3647-42a6-8b37-fc6386027e74",
   "metadata": {},
   "outputs": [],
   "source": []
  }
 ],
 "metadata": {
  "kernelspec": {
   "display_name": "Python 3 (ipykernel)",
   "language": "python",
   "name": "python3"
  },
  "language_info": {
   "codemirror_mode": {
    "name": "ipython",
    "version": 3
   },
   "file_extension": ".py",
   "mimetype": "text/x-python",
   "name": "python",
   "nbconvert_exporter": "python",
   "pygments_lexer": "ipython3",
   "version": "3.13.5"
  }
 },
 "nbformat": 4,
 "nbformat_minor": 5
}
