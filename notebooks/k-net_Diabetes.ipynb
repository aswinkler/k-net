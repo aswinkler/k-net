{
 "cells": [
  {
   "cell_type": "markdown",
   "id": "a436673c-d2d5-4705-974f-fcac1f4a4b13",
   "metadata": {},
   "source": [
    "# k-net training on the Diabetes dataset\n",
    "## actual module is src/train_k-net_diabetes.py"
   ]
  },
  {
   "cell_type": "code",
   "execution_count": null,
   "id": "35b5c69f-ecda-4cac-93d3-66b2b6b6d1fe",
   "metadata": {},
   "outputs": [
    {
     "name": "stdout",
     "output_type": "stream",
     "text": [
      "Training k-net with the Diabetes Dataset, model layers =  [10, 1]\n"
     ]
    }
   ],
   "source": [
    "%run ../src/train_k-net_diabetes"
   ]
  },
  {
   "cell_type": "markdown",
   "id": "b575101f-d0ac-43c5-80c9-dfa9c07af23b",
   "metadata": {},
   "source": []
  }
 ],
 "metadata": {
  "kernelspec": {
   "display_name": "k-net",
   "language": "python",
   "name": "k-net"
  },
  "language_info": {
   "codemirror_mode": {
    "name": "ipython",
    "version": 3
   },
   "file_extension": ".py",
   "mimetype": "text/x-python",
   "name": "python",
   "nbconvert_exporter": "python",
   "pygments_lexer": "ipython3",
   "version": "3.12.3"
  }
 },
 "nbformat": 4,
 "nbformat_minor": 5
}
