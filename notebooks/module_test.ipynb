{
 "cells": [
  {
   "cell_type": "markdown",
   "id": "4f8ce421",
   "metadata": {
    "colab_type": "text",
    "id": "view-in-github"
   },
   "source": [
    "<a href=\"https://colab.research.google.com/github/aswinkler/k-net/blob/main/notebooks/module_test.ipynb\" target=\"_parent\"><img src=\"https://colab.research.google.com/assets/colab-badge.svg\" alt=\"Open In Colab\"/></a>"
   ]
  },
  {
   "cell_type": "markdown",
   "id": "4ee11f02-3c9f-4d37-b041-b64a252116ae",
   "metadata": {},
   "source": [
    "This notebook tests the functionality of the modules used to build a k-net"
   ]
  },
  {
   "cell_type": "code",
   "execution_count": 4,
   "id": "75b00370-5157-4be4-a8d0-2485d68e1842",
   "metadata": {
    "id": "75b00370-5157-4be4-a8d0-2485d68e1842",
    "outputId": "8b49044d-7ebe-46bd-fd1f-61907c15ae3f"
   },
   "outputs": [
    {
     "name": "stdout",
     "output_type": "stream",
     "text": [
      "All DualNumber tests passed.\n"
     ]
    }
   ],
   "source": [
    "%run ../tests/test_dual_number"
   ]
  },
  {
   "cell_type": "code",
   "execution_count": 5,
   "id": "e13fc9d4-11a8-47dc-a096-7cfd362e0310",
   "metadata": {
    "id": "e13fc9d4-11a8-47dc-a096-7cfd362e0310",
    "outputId": "ca9a22d8-dc9b-4ccc-983c-823a0bc51910"
   },
   "outputs": [
    {
     "name": "stdout",
     "output_type": "stream",
     "text": [
      "All DualTensor tests passed.\n"
     ]
    }
   ],
   "source": [
    "%run ../tests/test_dual_tensor"
   ]
  },
  {
   "cell_type": "code",
   "execution_count": 6,
   "id": "46ecde13-6a43-45c1-8a47-3a3fdd4e95aa",
   "metadata": {
    "id": "46ecde13-6a43-45c1-8a47-3a3fdd4e95aa",
    "outputId": "7e236053-ce4a-4392-860b-ee8730533b91"
   },
   "outputs": [
    {
     "name": "stdout",
     "output_type": "stream",
     "text": [
      "All DualFunction tests passed.\n"
     ]
    }
   ],
   "source": [
    "%run ../tests/test_dual_functions"
   ]
  },
  {
   "cell_type": "code",
   "execution_count": 1,
   "id": "8d9ac250-7db9-4e50-9659-a57d0a09df94",
   "metadata": {
    "id": "8d9ac250-7db9-4e50-9659-a57d0a09df94",
    "outputId": "d5c3e3a0-fe44-4db8-9a57-5863aaf90a63"
   },
   "outputs": [
    {
     "name": "stdout",
     "output_type": "stream",
     "text": [
      "B-spline tests passed.\n"
     ]
    }
   ],
   "source": [
    "%run ../tests//test_bspline"
   ]
  },
  {
   "cell_type": "code",
   "execution_count": 3,
   "id": "d749e07c-1e2f-4d5b-a920-8e6e34f24566",
   "metadata": {
    "id": "d749e07c-1e2f-4d5b-a920-8e6e34f24566",
    "outputId": "77e7df76-f57c-4d07-dd2e-ff134bb8c8d0"
   },
   "outputs": [
    {
     "name": "stdout",
     "output_type": "stream",
     "text": [
      "Real input test passed.\n",
      "Dual input test passed.\n"
     ]
    }
   ],
   "source": [
    "%run ../tests/test_ka_inner_layer"
   ]
  },
  {
   "cell_type": "code",
   "execution_count": 6,
   "id": "68ff76fd-17d2-410c-b3a2-4a13f9464311",
   "metadata": {
    "id": "68ff76fd-17d2-410c-b3a2-4a13f9464311",
    "outputId": "57f5e2a6-f254-4ec5-e611-1475afb90ce2"
   },
   "outputs": [
    {
     "name": "stdout",
     "output_type": "stream",
     "text": [
      "KAFullLayer real input test passed.\n",
      "KAFullLayer dual input test passed.\n"
     ]
    }
   ],
   "source": [
    "%run ../tests/test_ka_full_layer"
   ]
  },
  {
   "cell_type": "code",
   "execution_count": 11,
   "id": "8eabdc22-d12c-4b3f-93d2-5bd9a61b4895",
   "metadata": {
    "id": "8eabdc22-d12c-4b3f-93d2-5bd9a61b4895",
    "outputId": "75fd66a7-fcf7-40c5-d608-0a83256b7aaa"
   },
   "outputs": [
    {
     "name": "stdout",
     "output_type": "stream",
     "text": [
      "Output real: [[-3.97997929]\n",
      " [ 0.        ]]\n",
      "Output dual: [[0.]\n",
      " [0.]]\n"
     ]
    }
   ],
   "source": [
    "%run ../tests/test_kan_model"
   ]
  },
  {
   "cell_type": "code",
   "execution_count": null,
   "id": "fcf78e6e-8fad-4068-8893-089e716c0d3c",
   "metadata": {},
   "outputs": [],
   "source": []
  }
 ],
 "metadata": {
  "colab": {
   "include_colab_link": true,
   "name": "module-test.ipynb",
   "provenance": []
  },
  "kernelspec": {
   "display_name": "k-net",
   "language": "python",
   "name": "k-net"
  },
  "language_info": {
   "codemirror_mode": {
    "name": "ipython",
    "version": 3
   },
   "file_extension": ".py",
   "mimetype": "text/x-python",
   "name": "python",
   "nbconvert_exporter": "python",
   "pygments_lexer": "ipython3",
   "version": "3.12.3"
  }
 },
 "nbformat": 4,
 "nbformat_minor": 5
}
