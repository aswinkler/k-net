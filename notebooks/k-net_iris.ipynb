{
 "cells": [
  {
   "cell_type": "markdown",
   "id": "a798a44c-0449-49ca-b341-c7c74cbf4358",
   "metadata": {},
   "source": [
    "# k-net training on the Iris dataset\n",
    "## actual module is src/train_k-net_iris.py"
   ]
  },
  {
   "cell_type": "code",
   "execution_count": null,
   "id": "7848100a-18b1-480a-b2de-f2834e798538",
   "metadata": {
    "editable": true,
    "slideshow": {
     "slide_type": ""
    },
    "tags": []
   },
   "outputs": [
    {
     "name": "stdout",
     "output_type": "stream",
     "text": [
      "Training k-net with the Iris Dataset, model layers =  [4, 3, 3]\n"
     ]
    }
   ],
   "source": [
    "%run ../src/train_k-net_iris"
   ]
  },
  {
   "cell_type": "code",
   "execution_count": null,
   "id": "8b95e005-eb77-4393-8b54-790b61f621d7",
   "metadata": {},
   "outputs": [],
   "source": []
  }
 ],
 "metadata": {
  "kernelspec": {
   "display_name": "k-net",
   "language": "python",
   "name": "k-net"
  },
  "language_info": {
   "codemirror_mode": {
    "name": "ipython",
    "version": 3
   },
   "file_extension": ".py",
   "mimetype": "text/x-python",
   "name": "python",
   "nbconvert_exporter": "python",
   "pygments_lexer": "ipython3",
   "version": "3.12.3"
  }
 },
 "nbformat": 4,
 "nbformat_minor": 5
}
